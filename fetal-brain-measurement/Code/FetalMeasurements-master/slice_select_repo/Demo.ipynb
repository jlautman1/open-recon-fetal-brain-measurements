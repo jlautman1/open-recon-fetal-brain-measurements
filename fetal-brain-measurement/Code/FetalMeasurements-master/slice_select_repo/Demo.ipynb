{
 "cells": [
  {
   "cell_type": "code",
   "execution_count": 35,
   "metadata": {},
   "outputs": [],
   "source": [
    "import nibabel as nib\n",
    "from matplotlib import pyplot as plt\n",
    "import skimage\n",
    "import numpy as np\n",
    "from scipy import ndimage\n",
    "from scipy.optimize import curve_fit\n",
    "\n",
    "import seaborn as sns \n",
    "import glob\n",
    "import statsmodels as sm\n",
    "\n",
    "import pandas as pd\n",
    "import re\n",
    "import os\n",
    "import glob\n",
    "import shutil\n",
    "import cv2\n",
    "import xml.etree.ElementTree as ET\n",
    "from scipy.spatial.distance import euclidean\n",
    "import scipy.stats as st\n",
    "\n",
    "%matplotlib inline"
   ]
  },
  {
   "cell_type": "code",
   "execution_count": 38,
   "metadata": {},
   "outputs": [
    {
     "data": {
      "text/plain": [
       "0.8159398746532405"
      ]
     },
     "execution_count": 38,
     "metadata": {},
     "output_type": "execute_result"
    }
   ],
   "source": [
    "st.norm.pdf(0.9)"
   ]
  },
  {
   "cell_type": "code",
   "execution_count": 4,
   "metadata": {},
   "outputs": [],
   "source": []
  },
  {
   "cell_type": "code",
   "execution_count": 191,
   "metadata": {},
   "outputs": [],
   "source": [
    "base_seg = nib.load(\"/media/df3-dafna/Demo/113/brain_volume.nii\").get_fdata()\n",
    "slice_x, slice_y, slice_z = ndimage.find_objects(base_seg.astype(np.uint8))[0]\n",
    "roi = base_seg[slice_x, slice_y,slice_z]\n",
    "for elem in glob.glob(\"/media/df3-dafna/Demo/113/*.nii\"):\n",
    "    if 'body' in elem:\n",
    "        continue\n",
    "    elem_nii = nib.load(elem).get_fdata()\n",
    "    elem_nii_roi = elem_nii[slice_x, slice_y,slice_z]\n",
    "    elem_nii_new_fn = elem.replace(\".nii\", \".roi.nii\")\n",
    "    ni_img = nib.Nifti1Image(elem_nii_roi, np.eye(4))\n",
    "    nib.save(ni_img, elem_nii_new_fn)"
   ]
  },
  {
   "cell_type": "code",
   "execution_count": 99,
   "metadata": {},
   "outputs": [],
   "source": [
    "def plot_on(cur_ga, cur_value, total_mean, total_var, measure_name):\n",
    "    ga = np.array(range(22*7,40*7,7))\n",
    "    plt.plot(ga/7, total_mean, label=measure_name)\n",
    "    plt.fill_between(ga/7, total_mean-total_var, total_mean+total_var, color='lightblue', alpha=.5, label='90% CI')\n",
    "    plt.scatter(cur_ga, cur_value, marker='o', s=10, c='k')\n",
    "    plt.title('normative '+measure_name+' vs GA')\n",
    "    plt.xlabel('GA (weeks)')\n",
    "    plt.ylabel(measure_name+' (mm)')\n",
    "    plt.legend()\n",
    "    return plt\n",
    "    \n",
    "    \n",
    "def plot_on_cbd(cur_ga, cur_value):\n",
    "    ga = np.array(range(22*7,40*7,7))\n",
    "    bpd_mean = 221.6 - 2233.6 * (ga** -0.5)\n",
    "    bpd_variance =  4.12  * 1.28\n",
    "    return plot_on(cur_ga, cur_value, bpd_mean, bpd_variance, 'CBD')\n",
    "\n",
    "def plot_on_bbd(cur_ga, cur_value):\n",
    "    ga = np.array(range(22*7,40*7,7))\n",
    "    bpd_mean =  142.7 - 14245.0 / ga \n",
    "    bpd_variance =  4.61 * 1.28\n",
    "    return plot_on(cur_ga, cur_value, bpd_mean, bpd_variance, 'BBD')\n",
    "\n",
    "def plot_on_tcd(cur_ga, cur_value):\n",
    "    ga = np.array(range(22*7,40*7,7))\n",
    "    tcd_mean = 8.09 + 2.32*(10**-5)*(ga ** 3) - 3.76*(10**-6)*(ga**3)*np.log(ga)\n",
    "    tcd_variance =  1.06 * 1.28\n",
    "    return plot_on(cur_ga, cur_value, tcd_mean, tcd_variance, 'TCD')\n",
    "    "
   ]
  },
  {
   "cell_type": "code",
   "execution_count": 104,
   "metadata": {},
   "outputs": [],
   "source": [
    "def plot_on_fetalweight(cur_ga, cur_value):\n",
    "    ga = np.array(range(22,40,1))\n",
    "    fw_mean = np.exp(0.578+0.332*ga-0.00354*(ga**2))\n",
    "    fw_variance = 0.12 * 1.28 *fw_mean\n",
    "    \n",
    "    plt.plot(ga, fw_mean, label=\"FW\")\n",
    "    plt.fill_between(ga, fw_mean-fw_variance, fw_mean+fw_variance, color='lightblue', alpha=.5, label='90% CI')\n",
    "    plt.scatter(cur_ga, cur_value, marker='o', s=10, c='k')\n",
    "    plt.title('normative fetal weight (FW) vs GA')\n",
    "    plt.xlabel('GA (weeks)')\n",
    "    plt.ylabel('FW (mm^3)')\n",
    "    plt.legend()\n",
    "    return plt\n"
   ]
  },
  {
   "cell_type": "code",
   "execution_count": 145,
   "metadata": {},
   "outputs": [],
   "source": [
    "def plot_on_brainvolume_dafi(cur_ga, cur_value):\n",
    "    ga = np.array(range(18,40,1))\n",
    "    bw_mean = np.exp( -0.38225508+  0.28012062*ga-0.0029532*(ga**2))\n",
    "    bw_variance = 0.04 * 1.28 *bw_mean\n",
    "    \n",
    "    plt.plot(ga, bw_mean, label=\"BV\")\n",
    "    plt.fill_between(ga, bw_mean-bw_variance, bw_mean+bw_variance, color='lightblue', alpha=.5, label='90% CI')\n",
    "    plt.scatter(cur_ga, cur_value, marker='o', s=10, c='k')\n",
    "    plt.title('normative brain volume (BV) vs GA')\n",
    "    plt.xlabel('GA (weeks)')\n",
    "    plt.ylabel('BV (mm^3)')\n",
    "    plt.legend()\n",
    "    return plt\n",
    "\n",
    "    \n",
    "def plot_on_brainvolume_kyrk(cur_ga, cur_value):\n",
    "    ga = np.array(range(22,38+1,1))\n",
    "    bw_mean = -11.0802233484726 + -5.80680632639801 * ga + 0.376215489076761 * (ga**2)\n",
    "    #bw_mean = np.exp((ga-22)*0.1304 + np.log(43.26)) #43.26*(1.131**(ga-22))\n",
    "    #bw_variance = 0.2 * bw_mean\n",
    "    bw_variance = 1.5899820908334 * ga + -32.1690253720697\n",
    "    \n",
    "    plt.plot(ga, bw_mean, label=\"BV\")\n",
    "    plt.fill_between(ga, bw_mean-bw_variance, bw_mean+bw_variance, color='lightblue', alpha=.5, label='90% CI')\n",
    "    plt.scatter(cur_ga, cur_value, marker='o', s=10, c='k')\n",
    "    plt.title('normative brain volume (BV) vs GA')\n",
    "    plt.xlabel('GA (weeks)')\n",
    "    plt.ylabel('BV (mm^3)')\n",
    "    plt.legend()\n",
    "    return plt\n",
    "\n"
   ]
  },
  {
   "cell_type": "code",
   "execution_count": 171,
   "metadata": {},
   "outputs": [],
   "source": [
    "def plot_precentile(cur_mean, cur_var, cur_val, meas_name, meas_units=\"mm\"):\n",
    "    z = (cur_val - cur_mean) / cur_var\n",
    "    percentile = st.norm.cdf(z) * 100\n",
    "    v10 = cur_mean - cur_var*1.28\n",
    "    v90 = cur_mean + cur_var*1.28\n",
    "    \n",
    "    fig, ax = plt.subplots(figsize=(5,1.5))\n",
    "    plt.tight_layout()\n",
    "    bpdict = ax.boxplot([v10,] + [cur_val,]*10 + [v90,] , vert=False)\n",
    "    ax.annotate(\"10%\", (v10, 0.8))\n",
    "    ax.annotate(\"90%\", (v90 - 0.5, 0.8))\n",
    "    ax.annotate(\"{0:.0f}%\".format(percentile), (bpdict['medians'][0].get_xdata()[0], 0.8))\n",
    "    ax.set_title(meas_name)\n",
    "    ax.set_xlabel(\"{}({})\".format(meas_name,meas_units,))\n",
    "    ax.plot([v10,v90],[1,1], c='lightblue')\n",
    "\n",
    "    \n",
    "def plot_cbd_prec(cur_ga, cur_val):\n",
    "    ga = cur_ga * 7\n",
    "    cbd_mean = 221.6 - 2233.6 * (ga** -0.5)\n",
    "    cbd_variance =  4.12\n",
    "    plot_precentile(cbd_mean, cbd_variance, cur_val, \"CBD\")\n",
    "    \n",
    "def plot_bbd_prec(cur_ga, cur_val):\n",
    "    ga = cur_ga * 7\n",
    "    bbd_mean =  142.7 - 14245.0 / ga \n",
    "    bbd_variance =  4.61\n",
    "    plot_precentile(bbd_mean, bbd_variance, cur_val, \"BBD\")\n",
    "    \n",
    "def plot_tcd_prec(cur_ga, cur_val):\n",
    "    ga = cur_ga * 7\n",
    "    tcd_mean = 8.09 + 2.32*(10**-5)*(ga ** 3) - 3.76*(10**-6)*(ga**3)*np.log(ga)\n",
    "    tcd_variance =  1.06 * 1.28\n",
    "    plot_precentile(tcd_mean, tcd_variance, cur_val, \"TCD\")\n",
    "    \n",
    "def plot_fetalweight_prec(cur_ga, cur_val):\n",
    "    fw_mean = np.exp(0.578+0.332*cur_ga-0.00354*(cur_ga**2))\n",
    "    fw_variance = 0.12 * 1.28 *fw_mean\n",
    "    plot_precentile(fw_mean, fw_variance, cur_val, \"Fetal weight\", \"gram\")\n",
    "\n",
    "def plot_brainvolume_prec(cur_ga, cur_val):\n",
    "    '''Kyrk'''\n",
    "    bw_mean = -11.0802233484726 + -5.80680632639801 * cur_ga + 0.376215489076761 * (cur_ga**2)\n",
    "    bw_variance = 1.5899820908334 * cur_ga + -32.1690253720697\n",
    "    plot_precentile(bw_mean, bw_variance, cur_val, \"Brain volume\", \"mL\")"
   ]
  },
  {
   "cell_type": "code",
   "execution_count": 169,
   "metadata": {},
   "outputs": [
    {
     "data": {
      "image/png": "[encoded data removed]",
      "text/plain": [
       "<Figure size 360x108 with 1 Axes>"
      ]
     },
     "metadata": {
      "needs_background": "light"
     },
     "output_type": "display_data"
    }
   ],
   "source": [
    "val = 64.2\n",
    "ga = 30*7\n",
    "bpd_mean = 221.6 - 2233.6 * (ga** -0.5)\n",
    "bpd_variance =  4.12\n",
    "plot_cbd_prec(30, 64.2)"
   ]
  },
  {
   "cell_type": "code",
   "execution_count": 112,
   "metadata": {},
   "outputs": [],
   "source": [
    "val = 64.2\n",
    "ga = 30*7\n",
    "bpd_mean = 221.6 - 2233.6 * (ga** -0.5)\n",
    "bpd_variance =  4.12\n",
    "z = (val - bpd_mean) / bpd_variance\n",
    "percentile = st.norm.cdf(z) * 100\n",
    "v10 = bpd_mean - bpd_variance*1.28\n",
    "v90 = bpd_mean + bpd_variance*1.28\n",
    "\n",
    "\n"
   ]
  },
  {
   "cell_type": "code",
   "execution_count": 162,
   "metadata": {},
   "outputs": [
    {
     "data": {
      "image/png": "[encoded data removed]",
      "text/plain": [
       "<Figure size 360x108 with 1 Axes>"
      ]
     },
     "metadata": {
      "needs_background": "light"
     },
     "output_type": "display_data"
    }
   ],
   "source": [
    "fig, ax = plt.subplots(figsize=(5,1.5))\n",
    "bpdict = ax.boxplot([v10,] + [val,]*10 + [v90,] , vert=False)\n",
    "ax.annotate(\"10%\", (v10, 0.8))\n",
    "ax.annotate(\"90%\", (v90 - 0.5, 0.8))\n",
    "ax.annotate(\"{0:.0f}%\".format(percentile), (bpdict['medians'][0].get_xdata()[0], 0.8))\n",
    "ax.set_title(\"BPD\")\n",
    "ax.set_xlabel(\"BPD(mm)\")\n",
    "ax.plot([v10,v90],[1,1], c='lightblue')\n",
    "plt.tight_layout()"
   ]
  },
  {
   "cell_type": "code",
   "execution_count": 115,
   "metadata": {},
   "outputs": [
    {
     "data": {
      "text/plain": [
       "{'whiskers': [<matplotlib.lines.Line2D at 0x7fdb90d832e8>,\n",
       "  <matplotlib.lines.Line2D at 0x7fdb90d839e8>],\n",
       " 'caps': [<matplotlib.lines.Line2D at 0x7fdb90fb0390>,\n",
       "  <matplotlib.lines.Line2D at 0x7fdb90edbe10>],\n",
       " 'boxes': [<matplotlib.lines.Line2D at 0x7fdb90d83940>],\n",
       " 'medians': [<matplotlib.lines.Line2D at 0x7fdb90ec4ef0>],\n",
       " 'fliers': [<matplotlib.lines.Line2D at 0x7fdb90ee7240>],\n",
       " 'means': []}"
      ]
     },
     "execution_count": 115,
     "metadata": {},
     "output_type": "execute_result"
    }
   ],
   "source": [
    "bpdict"
   ]
  },
  {
   "cell_type": "markdown",
   "metadata": {},
   "source": [
    "### np.exp(0.1301*(30-22) + np.log(43.26))"
   ]
  },
  {
   "cell_type": "code",
   "execution_count": 155,
   "metadata": {},
   "outputs": [
    {
     "ename": "NameError",
     "evalue": "name 'plot_on_bbd' is not defined",
     "output_type": "error",
     "traceback": [
      "\u001b[0;31m---------------------------------------------------------------------------\u001b[0m",
      "\u001b[0;31mNameError\u001b[0m                                 Traceback (most recent call last)",
      "\u001b[0;32m<ipython-input-155-f2a8e30de5cd>\u001b[0m in \u001b[0;36m<module>\u001b[0;34m\u001b[0m\n\u001b[0;32m----> 1\u001b[0;31m \u001b[0mplot_on_bbd\u001b[0m\u001b[0;34m(\u001b[0m\u001b[0;36m30\u001b[0m\u001b[0;34m,\u001b[0m \u001b[0;36m64.2\u001b[0m\u001b[0;34m)\u001b[0m\u001b[0;34m\u001b[0m\u001b[0m\n\u001b[0m",
      "\u001b[0;31mNameError\u001b[0m: name 'plot_on_bbd' is not defined"
     ]
    }
   ],
   "source": [
    "plot_on_bbd(30, 64.2)"
   ]
  },
  {
   "cell_type": "code",
   "execution_count": 72,
   "metadata": {},
   "outputs": [
    {
     "data": {
      "image/png": "[encoded data removed]",
      "text/plain": [
       "<Figure size 432x288 with 1 Axes>"
      ]
     },
     "metadata": {
      "needs_background": "light"
     },
     "output_type": "display_data"
    }
   ],
   "source": [
    "plot_on_tcd(30, 36.6)"
   ]
  },
  {
   "cell_type": "code",
   "execution_count": 93,
   "metadata": {},
   "outputs": [
    {
     "data": {
      "text/plain": [
       "<matplotlib.axes._subplots.AxesSubplot at 0x7f2c0ff700f0>"
      ]
     },
     "execution_count": 93,
     "metadata": {},
     "output_type": "execute_result"
    },
    {
     "data": {
      "image/png": "[encoded data removed]",
      "text/plain": [
       "<Figure size 432x288 with 1 Axes>"
      ]
     },
     "metadata": {
      "needs_background": "light"
     },
     "output_type": "display_data"
    }
   ],
   "source": [
    "plt.axvspan(20, 22, color='b', alpha=.6)\n",
    "sns.distplot(np.random.normal(30, 4.12, (1,200000)), color='lightblue')\n"
   ]
  },
  {
   "cell_type": "code",
   "execution_count": 27,
   "metadata": {},
   "outputs": [],
   "source": [
    "bbd = [64.4,  67.3, 70.0, 72.5, 74.9, 77.0, 79.1, 81.0, 82.8 , 84.6, 86.2, 87.7, 89.1, 90.5, 91.8 ]\n",
    "bbd_ga = np.arange(26,40+1)*7\n"
   ]
  },
  {
   "cell_type": "code",
   "execution_count": 36,
   "metadata": {},
   "outputs": [],
   "source": [
    "tcd = [30.3, 31.8, 33.3, 35.0, 36.7 , 38.4, 40.1, 41.9, 43.6, 45.3, 46.9, 48.5, 49.9, 51.1, 52.2]\n",
    "tcd_ga = np.arange(26,40+1)*7"
   ]
  },
  {
   "cell_type": "code",
   "execution_count": 129,
   "metadata": {},
   "outputs": [],
   "source": [
    "bv = [40.572\n",
    ",44.223\n",
    ",48.131\n",
    ",52.308\n",
    ",56.763\n",
    ",61.506\n",
    ",66.547\n",
    ",71.896\n",
    ",77.56\n",
    ",83.546\n",
    ",89.862\n",
    ",96.513\n",
    ",103.503\n",
    ",110.835\n",
    ",118.512\n",
    ",126.533\n",
    ",134.898\n",
    ",143.604\n",
    ",152.646\n",
    ",162.018\n",
    ",171.711\n",
    ",181.716\n",
    ",192.02\n",
    ",202.61\n",
    ",213.467\n",
    ",224.575\n",
    ",235.912\n",
    ",247.456\n",
    ",259.182\n",
    ",271.062\n",
    ",283.069\n",
    ",295.172\n",
    ",307.338\n",
    ",319.533\n",
    ",331.722\n",
    ",343.868\n",
    ",355.933\n",
    ",367.877\n",
    ",379.661\n",
    ",391.244\n",
    ",402.586\n",
    ",413.646\n",
    ",424.382\n",
    ",434.754\n",
    ",444.723]\n",
    "bv_log = np.log(bv)\n",
    "bv_ga = np.arange(18,40+.5, .5)"
   ]
  },
  {
   "cell_type": "code",
   "execution_count": 37,
   "metadata": {},
   "outputs": [],
   "source": [
    "def func(x, a, b):\n",
    "    return a + b * (x** -0.5)\n"
   ]
  },
  {
   "cell_type": "code",
   "execution_count": 56,
   "metadata": {},
   "outputs": [],
   "source": [
    "def func2(x, a, b,c):\n",
    "    return a + b * (x** 3) + c *(x**3)*np.log(x) "
   ]
  },
  {
   "cell_type": "code",
   "execution_count": 122,
   "metadata": {},
   "outputs": [],
   "source": [
    "def func_bv(x, a, b, c):\n",
    "    return a + b * (x) + c *(x**2)"
   ]
  },
  {
   "cell_type": "code",
   "execution_count": 130,
   "metadata": {},
   "outputs": [],
   "source": [
    "popt, pcov = curve_fit(func_bv, bv_ga, bv_log)"
   ]
  },
  {
   "cell_type": "code",
   "execution_count": 132,
   "metadata": {},
   "outputs": [
    {
     "data": {
      "text/plain": [
       "(array([-0.38225508,  0.28012062, -0.0029532 ]),\n",
       " array([[ 7.36420701e-11, -5.21640067e-12,  8.80809475e-14],\n",
       "        [-5.21640067e-12,  3.74635297e-13, -6.39519495e-15],\n",
       "        [ 8.80809475e-14, -6.39519495e-15,  1.10261982e-16]]))"
      ]
     },
     "execution_count": 132,
     "metadata": {},
     "output_type": "execute_result"
    }
   ],
   "source": [
    "popt, pcov"
   ]
  },
  {
   "cell_type": "code",
   "execution_count": 59,
   "metadata": {},
   "outputs": [
    {
     "data": {
      "text/plain": [
       "array([26., 27., 28., 29., 30., 31., 32., 33., 34., 35., 36., 37., 38.,\n",
       "       39., 40.])"
      ]
     },
     "execution_count": 59,
     "metadata": {},
     "output_type": "execute_result"
    }
   ],
   "source": [
    "tcd_ga / 7 "
   ]
  },
  {
   "cell_type": "code",
   "execution_count": 131,
   "metadata": {},
   "outputs": [
    {
     "data": {
      "text/plain": [
       "[<matplotlib.lines.Line2D at 0x7f20ed3cbb00>]"
      ]
     },
     "execution_count": 131,
     "metadata": {},
     "output_type": "execute_result"
    },
    {
     "data": {
      "image/png": "[encoded data removed]",
      "text/plain": [
       "<Figure size 432x288 with 1 Axes>"
      ]
     },
     "metadata": {
      "needs_background": "light"
     },
     "output_type": "display_data"
    }
   ],
   "source": [
    "plt.plot(bv_ga, np.exp(func_bv(bv_ga, *popt)))\n",
    "plt.plot(bv_ga, bv, 'r')"
   ]
  },
  {
   "cell_type": "code",
   "execution_count": 157,
   "metadata": {},
   "outputs": [],
   "source": [
    "df_all = pd.read_excel(\"/cs/casmip/netana03/Demo/DemoBook.xlsx\")"
   ]
  },
  {
   "cell_type": "code",
   "execution_count": 172,
   "metadata": {
    "scrolled": true
   },
   "outputs": [
    {
     "ename": "NameError",
     "evalue": "name 'plot_on_bbd' is not defined",
     "output_type": "error",
     "traceback": [
      "\u001b[0;31m---------------------------------------------------------------------------\u001b[0m",
      "\u001b[0;31mNameError\u001b[0m                                 Traceback (most recent call last)",
      "\u001b[0;32m<ipython-input-172-7f1721a66ebf>\u001b[0m in \u001b[0;36m<module>\u001b[0;34m\u001b[0m\n\u001b[1;32m      7\u001b[0m     \u001b[0mdir_out\u001b[0m \u001b[0;34m=\u001b[0m \u001b[0mos\u001b[0m\u001b[0;34m.\u001b[0m\u001b[0mpath\u001b[0m\u001b[0;34m.\u001b[0m\u001b[0mjoin\u001b[0m\u001b[0;34m(\u001b[0m\u001b[0;34m\"/cs/casmip/netana03/Demo/\"\u001b[0m\u001b[0;34m,\u001b[0m \u001b[0mstr\u001b[0m\u001b[0;34m(\u001b[0m\u001b[0msubj_id\u001b[0m\u001b[0;34m)\u001b[0m\u001b[0;34m)\u001b[0m\u001b[0;34m\u001b[0m\u001b[0m\n\u001b[1;32m      8\u001b[0m     \u001b[0mplt\u001b[0m\u001b[0;34m.\u001b[0m\u001b[0mfigure\u001b[0m\u001b[0;34m(\u001b[0m\u001b[0;34m)\u001b[0m\u001b[0;34m\u001b[0m\u001b[0m\n\u001b[0;32m----> 9\u001b[0;31m     \u001b[0mplot_on_bbd\u001b[0m\u001b[0;34m(\u001b[0m\u001b[0mga\u001b[0m\u001b[0;34m,\u001b[0m \u001b[0ml\u001b[0m\u001b[0;34m[\u001b[0m\u001b[0;34m\"BBD_Measure\"\u001b[0m\u001b[0;34m]\u001b[0m\u001b[0;34m)\u001b[0m\u001b[0;34m\u001b[0m\u001b[0m\n\u001b[0m\u001b[1;32m     10\u001b[0m     \u001b[0mplt\u001b[0m\u001b[0;34m.\u001b[0m\u001b[0msavefig\u001b[0m\u001b[0;34m(\u001b[0m\u001b[0mos\u001b[0m\u001b[0;34m.\u001b[0m\u001b[0mpath\u001b[0m\u001b[0;34m.\u001b[0m\u001b[0mjoin\u001b[0m\u001b[0;34m(\u001b[0m\u001b[0mdir_out\u001b[0m\u001b[0;34m,\u001b[0m \u001b[0;34m\"bbd.png\"\u001b[0m\u001b[0;34m)\u001b[0m\u001b[0;34m,\u001b[0m \u001b[0mbbox_inches\u001b[0m\u001b[0;34m=\u001b[0m\u001b[0;34m'tight'\u001b[0m\u001b[0;34m)\u001b[0m\u001b[0;34m\u001b[0m\u001b[0m\n\u001b[1;32m     11\u001b[0m     \u001b[0mplt\u001b[0m\u001b[0;34m.\u001b[0m\u001b[0mfigure\u001b[0m\u001b[0;34m(\u001b[0m\u001b[0;34m)\u001b[0m\u001b[0;34m\u001b[0m\u001b[0m\n",
      "\u001b[0;31mNameError\u001b[0m: name 'plot_on_bbd' is not defined"
     ]
    },
    {
     "data": {
      "text/plain": [
       "<Figure size 432x288 with 0 Axes>"
      ]
     },
     "metadata": {},
     "output_type": "display_data"
    }
   ],
   "source": [
    "for i, l in df_all.iterrows():\n",
    "\n",
    "    subj_id = int(l.Subject)\n",
    "    if subj_id != 113:\n",
    "        continue\n",
    "    ga =  l[\"GA (Weeks)\"]\n",
    "    dir_out = os.path.join(\"/cs/casmip/netana03/Demo/\", str(subj_id))\n",
    "    plt.figure()\n",
    "    plot_on_bbd(ga, l[\"BBD_Measure\"])\n",
    "    plt.savefig(os.path.join(dir_out, \"bbd.png\"), bbox_inches='tight')\n",
    "    plt.figure()\n",
    "    plot_on_cbd(ga, l[\"CBD_Measure\"])\n",
    "    plt.savefig(os.path.join(dir_out, \"cbd.png\"), bbox_inches='tight')\n",
    "    plt.figure()\n",
    "    plot_on_tcd(ga, l[\"TCD_Measure\"])\n",
    "    plt.savefig(os.path.join(dir_out, \"tcd.png\"), bbox_inches='tight')\n",
    "    \n",
    "    plt.figure()\n",
    "    plot_on_fetalweight(ga, l[\"BodyVolume\"])\n",
    "    plt.savefig(os.path.join(dir_out, \"bodyvolume.png\"), bbox_inches='tight')\n",
    "    \n",
    "    plt.figure()\n",
    "    plot_on_brainvolume_kyrk(ga, l[\"BrainVolume (mL)\"])\n",
    "    plt.savefig(os.path.join(dir_out, \"brainvolume.png\"), bbox_inches='tight')\n",
    "    "
   ]
  },
  {
   "cell_type": "code",
   "execution_count": 173,
   "metadata": {},
   "outputs": [
    {
     "name": "stderr",
     "output_type": "stream",
     "text": [
      "/cs/labs/josko/netana03/work/env/lib/python3.6/site-packages/ipykernel_launcher.py:6: RuntimeWarning: More than 20 figures have been opened. Figures created through the pyplot interface (`matplotlib.pyplot.figure`) are retained until explicitly closed and may consume too much memory. (To control this warning, see the rcParam `figure.max_open_warning`).\n",
      "  \n",
      "/cs/labs/josko/netana03/work/env/lib/python3.6/site-packages/ipykernel_launcher.py:7: RuntimeWarning: More than 20 figures have been opened. Figures created through the pyplot interface (`matplotlib.pyplot.figure`) are retained until explicitly closed and may consume too much memory. (To control this warning, see the rcParam `figure.max_open_warning`).\n",
      "  import sys\n",
      "/cs/labs/josko/netana03/work/env/lib/python3.6/site-packages/ipykernel_launcher.py:9: RuntimeWarning: More than 20 figures have been opened. Figures created through the pyplot interface (`matplotlib.pyplot.figure`) are retained until explicitly closed and may consume too much memory. (To control this warning, see the rcParam `figure.max_open_warning`).\n",
      "  if __name__ == '__main__':\n",
      "/cs/labs/josko/netana03/work/env/lib/python3.6/site-packages/ipykernel_launcher.py:7: RuntimeWarning: More than 20 figures have been opened. Figures created through the pyplot interface (`matplotlib.pyplot.figure`) are retained until explicitly closed and may consume too much memory. (To control this warning, see the rcParam `figure.max_open_warning`).\n",
      "  import sys\n",
      "/cs/labs/josko/netana03/work/env/lib/python3.6/site-packages/ipykernel_launcher.py:12: RuntimeWarning: More than 20 figures have been opened. Figures created through the pyplot interface (`matplotlib.pyplot.figure`) are retained until explicitly closed and may consume too much memory. (To control this warning, see the rcParam `figure.max_open_warning`).\n",
      "  if sys.path[0] == '':\n",
      "/cs/labs/josko/netana03/work/env/lib/python3.6/site-packages/ipykernel_launcher.py:7: RuntimeWarning: More than 20 figures have been opened. Figures created through the pyplot interface (`matplotlib.pyplot.figure`) are retained until explicitly closed and may consume too much memory. (To control this warning, see the rcParam `figure.max_open_warning`).\n",
      "  import sys\n",
      "/cs/labs/josko/netana03/work/env/lib/python3.6/site-packages/ipykernel_launcher.py:16: RuntimeWarning: More than 20 figures have been opened. Figures created through the pyplot interface (`matplotlib.pyplot.figure`) are retained until explicitly closed and may consume too much memory. (To control this warning, see the rcParam `figure.max_open_warning`).\n",
      "  app.launch_new_instance()\n",
      "/cs/labs/josko/netana03/work/env/lib/python3.6/site-packages/ipykernel_launcher.py:7: RuntimeWarning: More than 20 figures have been opened. Figures created through the pyplot interface (`matplotlib.pyplot.figure`) are retained until explicitly closed and may consume too much memory. (To control this warning, see the rcParam `figure.max_open_warning`).\n",
      "  import sys\n",
      "/cs/labs/josko/netana03/work/env/lib/python3.6/site-packages/ipykernel_launcher.py:20: RuntimeWarning: More than 20 figures have been opened. Figures created through the pyplot interface (`matplotlib.pyplot.figure`) are retained until explicitly closed and may consume too much memory. (To control this warning, see the rcParam `figure.max_open_warning`).\n",
      "/cs/labs/josko/netana03/work/env/lib/python3.6/site-packages/ipykernel_launcher.py:7: RuntimeWarning: More than 20 figures have been opened. Figures created through the pyplot interface (`matplotlib.pyplot.figure`) are retained until explicitly closed and may consume too much memory. (To control this warning, see the rcParam `figure.max_open_warning`).\n",
      "  import sys\n",
      "/cs/labs/josko/netana03/work/env/lib/python3.6/site-packages/ipykernel_launcher.py:6: RuntimeWarning: More than 20 figures have been opened. Figures created through the pyplot interface (`matplotlib.pyplot.figure`) are retained until explicitly closed and may consume too much memory. (To control this warning, see the rcParam `figure.max_open_warning`).\n",
      "  \n",
      "/cs/labs/josko/netana03/work/env/lib/python3.6/site-packages/ipykernel_launcher.py:7: RuntimeWarning: More than 20 figures have been opened. Figures created through the pyplot interface (`matplotlib.pyplot.figure`) are retained until explicitly closed and may consume too much memory. (To control this warning, see the rcParam `figure.max_open_warning`).\n",
      "  import sys\n",
      "/cs/labs/josko/netana03/work/env/lib/python3.6/site-packages/ipykernel_launcher.py:9: RuntimeWarning: More than 20 figures have been opened. Figures created through the pyplot interface (`matplotlib.pyplot.figure`) are retained until explicitly closed and may consume too much memory. (To control this warning, see the rcParam `figure.max_open_warning`).\n",
      "  if __name__ == '__main__':\n",
      "/cs/labs/josko/netana03/work/env/lib/python3.6/site-packages/ipykernel_launcher.py:7: RuntimeWarning: More than 20 figures have been opened. Figures created through the pyplot interface (`matplotlib.pyplot.figure`) are retained until explicitly closed and may consume too much memory. (To control this warning, see the rcParam `figure.max_open_warning`).\n",
      "  import sys\n",
      "/cs/labs/josko/netana03/work/env/lib/python3.6/site-packages/ipykernel_launcher.py:12: RuntimeWarning: More than 20 figures have been opened. Figures created through the pyplot interface (`matplotlib.pyplot.figure`) are retained until explicitly closed and may consume too much memory. (To control this warning, see the rcParam `figure.max_open_warning`).\n",
      "  if sys.path[0] == '':\n",
      "/cs/labs/josko/netana03/work/env/lib/python3.6/site-packages/ipykernel_launcher.py:7: RuntimeWarning: More than 20 figures have been opened. Figures created through the pyplot interface (`matplotlib.pyplot.figure`) are retained until explicitly closed and may consume too much memory. (To control this warning, see the rcParam `figure.max_open_warning`).\n",
      "  import sys\n",
      "/cs/labs/josko/netana03/work/env/lib/python3.6/site-packages/ipykernel_launcher.py:16: RuntimeWarning: More than 20 figures have been opened. Figures created through the pyplot interface (`matplotlib.pyplot.figure`) are retained until explicitly closed and may consume too much memory. (To control this warning, see the rcParam `figure.max_open_warning`).\n",
      "  app.launch_new_instance()\n",
      "/cs/labs/josko/netana03/work/env/lib/python3.6/site-packages/ipykernel_launcher.py:7: RuntimeWarning: More than 20 figures have been opened. Figures created through the pyplot interface (`matplotlib.pyplot.figure`) are retained until explicitly closed and may consume too much memory. (To control this warning, see the rcParam `figure.max_open_warning`).\n",
      "  import sys\n",
      "/cs/labs/josko/netana03/work/env/lib/python3.6/site-packages/ipykernel_launcher.py:20: RuntimeWarning: More than 20 figures have been opened. Figures created through the pyplot interface (`matplotlib.pyplot.figure`) are retained until explicitly closed and may consume too much memory. (To control this warning, see the rcParam `figure.max_open_warning`).\n",
      "/cs/labs/josko/netana03/work/env/lib/python3.6/site-packages/ipykernel_launcher.py:7: RuntimeWarning: More than 20 figures have been opened. Figures created through the pyplot interface (`matplotlib.pyplot.figure`) are retained until explicitly closed and may consume too much memory. (To control this warning, see the rcParam `figure.max_open_warning`).\n",
      "  import sys\n"
     ]
    },
    {
     "data": {
      "text/plain": [
       "<Figure size 432x288 with 0 Axes>"
      ]
     },
     "metadata": {},
     "output_type": "display_data"
    },
    {
     "data": {
      "image/png": "[encoded data removed]",
      "text/plain": [
       "<Figure size 360x108 with 1 Axes>"
      ]
     },
     "metadata": {
      "needs_background": "light"
     },
     "output_type": "display_data"
    },
    {
     "data": {
      "text/plain": [
       "<Figure size 432x288 with 0 Axes>"
      ]
     },
     "metadata": {},
     "output_type": "display_data"
    },
    {
     "data": {
      "image/png": "[encoded data removed]",
      "text/plain": [
       "<Figure size 360x108 with 1 Axes>"
      ]
     },
     "metadata": {
      "needs_background": "light"
     },
     "output_type": "display_data"
    },
    {
     "data": {
      "text/plain": [
       "<Figure size 432x288 with 0 Axes>"
      ]
     },
     "metadata": {},
     "output_type": "display_data"
    },
    {
     "data": {
      "image/png": "[encoded data removed]",
      "text/plain": [
       "<Figure size 360x108 with 1 Axes>"
      ]
     },
     "metadata": {
      "needs_background": "light"
     },
     "output_type": "display_data"
    },
    {
     "data": {
      "text/plain": [
       "<Figure size 432x288 with 0 Axes>"
      ]
     },
     "metadata": {},
     "output_type": "display_data"
    },
    {
     "data": {
      "image/png": "[encoded data removed]",
      "text/plain": [
       "<Figure size 360x108 with 1 Axes>"
      ]
     },
     "metadata": {
      "needs_background": "light"
     },
     "output_type": "display_data"
    },
    {
     "data": {
      "text/plain": [
       "<Figure size 432x288 with 0 Axes>"
      ]
     },
     "metadata": {},
     "output_type": "display_data"
    },
    {
     "data": {
      "image/png": "[encoded data removed]",
      "text/plain": [
       "<Figure size 360x108 with 1 Axes>"
      ]
     },
     "metadata": {
      "needs_background": "light"
     },
     "output_type": "display_data"
    },
    {
     "data": {
      "text/plain": [
       "<Figure size 432x288 with 0 Axes>"
      ]
     },
     "metadata": {},
     "output_type": "display_data"
    },
    {
     "data": {
      "image/png": "[encoded data removed]",
      "text/plain": [
       "<Figure size 360x108 with 1 Axes>"
      ]
     },
     "metadata": {
      "needs_background": "light"
     },
     "output_type": "display_data"
    },
    {
     "data": {
      "text/plain": [
       "<Figure size 432x288 with 0 Axes>"
      ]
     },
     "metadata": {},
     "output_type": "display_data"
    },
    {
     "data": {
      "image/png": "[encoded data removed]",
      "text/plain": [
       "<Figure size 360x108 with 1 Axes>"
      ]
     },
     "metadata": {
      "needs_background": "light"
     },
     "output_type": "display_data"
    },
    {
     "data": {
      "text/plain": [
       "<Figure size 432x288 with 0 Axes>"
      ]
     },
     "metadata": {},
     "output_type": "display_data"
    },
    {
     "data": {
      "image/png": "[encoded data removed]",
      "text/plain": [
       "<Figure size 360x108 with 1 Axes>"
      ]
     },
     "metadata": {
      "needs_background": "light"
     },
     "output_type": "display_data"
    },
    {
     "data": {
      "text/plain": [
       "<Figure size 432x288 with 0 Axes>"
      ]
     },
     "metadata": {},
     "output_type": "display_data"
    },
    {
     "data": {
      "image/png": "[encoded data removed]",
      "text/plain": [
       "<Figure size 360x108 with 1 Axes>"
      ]
     },
     "metadata": {
      "needs_background": "light"
     },
     "output_type": "display_data"
    },
    {
     "data": {
      "text/plain": [
       "<Figure size 432x288 with 0 Axes>"
      ]
     },
     "metadata": {},
     "output_type": "display_data"
    },
    {
     "data": {
      "image/png": "[encoded data removed]",
      "text/plain": [
       "<Figure size 360x108 with 1 Axes>"
      ]
     },
     "metadata": {
      "needs_background": "light"
     },
     "output_type": "display_data"
    },
    {
     "data": {
      "text/plain": [
       "<Figure size 432x288 with 0 Axes>"
      ]
     },
     "metadata": {},
     "output_type": "display_data"
    },
    {
     "data": {
      "image/png": "[encoded data removed]",
      "text/plain": [
       "<Figure size 360x108 with 1 Axes>"
      ]
     },
     "metadata": {
      "needs_background": "light"
     },
     "output_type": "display_data"
    },
    {
     "data": {
      "text/plain": [
       "<Figure size 432x288 with 0 Axes>"
      ]
     },
     "metadata": {},
     "output_type": "display_data"
    },
    {
     "data": {
      "image/png": "[encoded data removed]",
      "text/plain": [
       "<Figure size 360x108 with 1 Axes>"
      ]
     },
     "metadata": {
      "needs_background": "light"
     },
     "output_type": "display_data"
    },
    {
     "data": {
      "text/plain": [
       "<Figure size 432x288 with 0 Axes>"
      ]
     },
     "metadata": {},
     "output_type": "display_data"
    },
    {
     "data": {
      "image/png": "[encoded data removed]",
      "text/plain": [
       "<Figure size 360x108 with 1 Axes>"
      ]
     },
     "metadata": {
      "needs_background": "light"
     },
     "output_type": "display_data"
    },
    {
     "data": {
      "text/plain": [
       "<Figure size 432x288 with 0 Axes>"
      ]
     },
     "metadata": {},
     "output_type": "display_data"
    },
    {
     "data": {
      "image/png": "[encoded data removed]",
      "text/plain": [
       "<Figure size 360x108 with 1 Axes>"
      ]
     },
     "metadata": {
      "needs_background": "light"
     },
     "output_type": "display_data"
    },
    {
     "data": {
      "text/plain": [
       "<Figure size 432x288 with 0 Axes>"
      ]
     },
     "metadata": {},
     "output_type": "display_data"
    },
    {
     "data": {
      "image/png": "[encoded data removed]",
      "text/plain": [
       "<Figure size 360x108 with 1 Axes>"
      ]
     },
     "metadata": {
      "needs_background": "light"
     },
     "output_type": "display_data"
    },
    {
     "data": {
      "text/plain": [
       "<Figure size 432x288 with 0 Axes>"
      ]
     },
     "metadata": {},
     "output_type": "display_data"
    },
    {
     "data": {
      "image/png": "[encoded data removed]",
      "text/plain": [
       "<Figure size 360x108 with 1 Axes>"
      ]
     },
     "metadata": {
      "needs_background": "light"
     },
     "output_type": "display_data"
    },
    {
     "data": {
      "text/plain": [
       "<Figure size 432x288 with 0 Axes>"
      ]
     },
     "metadata": {},
     "output_type": "display_data"
    },
    {
     "data": {
      "image/png": "[encoded data removed]",
      "text/plain": [
       "<Figure size 360x108 with 1 Axes>"
      ]
     },
     "metadata": {
      "needs_background": "light"
     },
     "output_type": "display_data"
    },
    {
     "data": {
      "text/plain": [
       "<Figure size 432x288 with 0 Axes>"
      ]
     },
     "metadata": {},
     "output_type": "display_data"
    },
    {
     "data": {
      "image/png": "[encoded data removed]",
      "text/plain": [
       "<Figure size 360x108 with 1 Axes>"
      ]
     },
     "metadata": {
      "needs_background": "light"
     },
     "output_type": "display_data"
    },
    {
     "data": {
      "text/plain": [
       "<Figure size 432x288 with 0 Axes>"
      ]
     },
     "metadata": {},
     "output_type": "display_data"
    },
    {
     "data": {
      "image/png": "[encoded data removed]",
      "text/plain": [
       "<Figure size 360x108 with 1 Axes>"
      ]
     },
     "metadata": {
      "needs_background": "light"
     },
     "output_type": "display_data"
    },
    {
     "data": {
      "text/plain": [
       "<Figure size 432x288 with 0 Axes>"
      ]
     },
     "metadata": {},
     "output_type": "display_data"
    },
    {
     "data": {
      "image/png": "[encoded data removed]",
      "text/plain": [
       "<Figure size 360x108 with 1 Axes>"
      ]
     },
     "metadata": {
      "needs_background": "light"
     },
     "output_type": "display_data"
    }
   ],
   "source": [
    "for i, l in df_all.iterrows():\n",
    "\n",
    "    subj_id = int(l.Subject)\n",
    "    ga =  l[\"GA (Weeks)\"]\n",
    "    dir_out = os.path.join(\"/cs/casmip/netana03/Demo/\", str(subj_id))\n",
    "    plt.figure()\n",
    "    plot_bbd_prec(ga, l[\"BBD_Measure\"])\n",
    "    plt.savefig(os.path.join(dir_out, \"bbd_prec.png\"), bbox_inches='tight')\n",
    "    plt.figure()\n",
    "    plot_cbd_prec(ga, l[\"CBD_Measure\"])\n",
    "    plt.savefig(os.path.join(dir_out, \"cbd_prec.png\"), bbox_inches='tight')\n",
    "    plt.figure()\n",
    "    plot_tcd_prec(ga, l[\"TCD_Measure\"])\n",
    "    plt.savefig(os.path.join(dir_out, \"tcd_prec.png\"), bbox_inches='tight')\n",
    "    \n",
    "    plt.figure()\n",
    "    plot_fetalweight_prec(ga, l[\"BodyVolume\"])\n",
    "    plt.savefig(os.path.join(dir_out, \"bodyvolume_prec.png\"), bbox_inches='tight')\n",
    "    \n",
    "    plt.figure()\n",
    "    plot_brainvolume_prec(ga, l[\"BrainVolume (mL)\"])\n",
    "    plt.savefig(os.path.join(dir_out, \"brainvolume_prec.png\"), bbox_inches='tight')"
   ]
  },
  {
   "cell_type": "code",
   "execution_count": 186,
   "metadata": {},
   "outputs": [
    {
     "data": {
      "text/plain": [
       "115898.36643179998"
      ]
     },
     "execution_count": 186,
     "metadata": {},
     "output_type": "execute_result"
    }
   ],
   "source": [
    "brain_seg = nib.load(\"/media/df3-dafna/Demo/113/brain_volume.nii\").get_fdata()\n",
    "brain_vol = np.sum(brain_seg) * (0.7422 ** 2) * 5.0\n",
    "brain_vol"
   ]
  },
  {
   "cell_type": "code",
   "execution_count": 187,
   "metadata": {},
   "outputs": [
    {
     "data": {
      "text/plain": [
       "835820.3125"
      ]
     },
     "execution_count": 187,
     "metadata": {},
     "output_type": "execute_result"
    }
   ],
   "source": [
    "body_seg = nib.load(\"/media/df3-dafna/Demo/113/body_volume.nii\").get_fdata()\n",
    "body_vol = np.sum(body_seg) * (1.5625 ** 2) * 4.0\n",
    "body_vol"
   ]
  },
  {
   "cell_type": "code",
   "execution_count": 22,
   "metadata": {},
   "outputs": [],
   "source": [
    "def parse_annotation(annot_file):\n",
    "    tree = ET.parse(annot_file)\n",
    "    root = tree.getroot()\n",
    "    \n",
    "    xy_res = float(annot_file.split(\"Res\")[1].split(\"_\")[0])\n",
    "    \n",
    "    measures = {}\n",
    "    points = {}\n",
    "\n",
    "    for elem in root.findall('folder'):\n",
    "        if elem.attrib['key'] == 'Annotations':\n",
    "            root = elem\n",
    "    for elem in root.findall('folder'):\n",
    "        pts = []\n",
    "        color = \"\"\n",
    "        for entry in elem.findall('entry'):\n",
    "            if entry.attrib['key'] in ['Point1', 'Point2']:\n",
    "                pts.append([float(a) for a in entry.attrib['value'].split(\" \")])\n",
    "            elif entry.attrib['key'] in ['Color',]:\n",
    "                color = entry.attrib['value']\n",
    "        pts_arr = np.array(pts)\n",
    "        meas_len = euclidean(pts_arr[0], pts_arr[1])*xy_res\n",
    "        #print(color, meas_len)\n",
    "        if color == \"1 0 0\":\n",
    "            measures['TCD'] = meas_len\n",
    "            points['TCD'] = pts_arr\n",
    "        else:\n",
    "            if 'CBD' in measures.keys():\n",
    "                if measures['CBD'] > meas_len:\n",
    "                    measures['BBD'] = measures['CBD']\n",
    "                    measures['CBD'] = meas_len\n",
    "                    \n",
    "                    points['BBD'] = points['CBD']\n",
    "                    points['CBD'] = pts_arr\n",
    "                else:\n",
    "                    measures['BBD'] = meas_len\n",
    "                    \n",
    "                    points['BBD'] = pts_arr\n",
    "            else:\n",
    "                measures['CBD'] = meas_len \n",
    "                \n",
    "                points['CBD'] = pts_arr\n",
    "    return measures, points"
   ]
  },
  {
   "cell_type": "code",
   "execution_count": 188,
   "metadata": {},
   "outputs": [
    {
     "name": "stdout",
     "output_type": "stream",
     "text": [
      "{'TCD': 28.880413843144893, 'CBD': 55.49089828395685, 'BBD': 59.73854924873631, 'TCD_Selection': 13, 'Measure_TCD_X1': 269, 'Measure_TCD_Y1': 281, 'Measure_TCD_X2': 233, 'Measure_TCD_Y2': 267, 'BBD_Selection': 9}\n"
     ]
    }
   ],
   "source": [
    "dir_name = \"/media/df3-dafna/Demo/113/\"\n",
    "measures_list = []\n",
    "for annot in glob.glob(os.path.join(dir_name, \"*.annot\")):\n",
    "    measures, points = parse_annotation(annot)\n",
    "    if 'TCD' in points.keys():\n",
    "        measures['TCD_Selection'] = int(points['TCD'][0,2] + .5)\n",
    "        measures['Measure_TCD_X1'] = int(points['TCD'][0,0] + .5)\n",
    "        measures['Measure_TCD_Y1'] = int(points['TCD'][0,1] + .5)\n",
    "        measures['Measure_TCD_X2'] = int(points['TCD'][1,0] + .5)\n",
    "        measures['Measure_TCD_Y2'] = int(points['TCD'][1,1] + .5)\n",
    "    else:\n",
    "        measures['TCD_Selection'] = None\n",
    "    if 'BBD' in points.keys():\n",
    "        measures['BBD_Selection'] = int(points['BBD'][0,2] + .5)\n",
    "    else:\n",
    "        measures['BBD_Selection'] = None\n",
    "    measures_list.append(measures)\n",
    "    print (measures)\n",
    "    img = nib.load(os.path.join(dir_name, \"brain.nii\")).get_fdata()\n",
    "    for p_type in points.keys():\n",
    "        img_out = np.zeros_like(img)\n",
    "        p_mat = points[p_type]\n",
    "        plane_idx = int(p_mat[0,2] + .5)\n",
    "        \n",
    "        x1_point = int(p_mat[0,0] + .5)\n",
    "        y1_point = int(p_mat[0,1] + .5)\n",
    "        x2_point = int(p_mat[1,0] + .5)\n",
    "        y2_point = int(p_mat[1,1] + .5)\n",
    "        \n",
    "        implane = np.zeros_like(img[:,:,plane_idx])\n",
    "        im2show = implane.astype(np.float32)\n",
    "        im2show = cv2.cvtColor(im2show, cv2.COLOR_GRAY2BGR)\n",
    "        im2show = cv2.line(im2show, (y1_point,x1_point), (y2_point, x2_point), (255,255,255), 1)\n",
    "        img_out[:,:,plane_idx] = im2show[:,:,1] > 1\n",
    "        nib_out = nib.Nifti1Image(img_out, affine=np.eye(4))\n",
    "        nib.save(nib_out, os.path.join(dir_name, p_type+\".nii\"))\n",
    "df2 = pd.DataFrame(measures_list, columns=['TCD', 'CBD', 'BBD', 'TCD_Selection', 'BBD_Selection', 'Measure_TCD_X1', 'Measure_TCD_Y1', 'Measure_TCD_X2', 'Measure_TCD_Y2'])"
   ]
  },
  {
   "cell_type": "code",
   "execution_count": null,
   "metadata": {},
   "outputs": [],
   "source": []
  }
 ],
 "metadata": {
  "kernelspec": {
   "display_name": "Python 3",
   "language": "python",
   "name": "python3"
  },
  "language_info": {
   "codemirror_mode": {
    "name": "ipython",
    "version": 3
   },
   "file_extension": ".py",
   "mimetype": "text/x-python",
   "name": "python",
   "nbconvert_exporter": "python",
   "pygments_lexer": "ipython3",
   "version": "3.6.6"
  }
 },
 "nbformat": 4,
 "nbformat_minor": 2
}
