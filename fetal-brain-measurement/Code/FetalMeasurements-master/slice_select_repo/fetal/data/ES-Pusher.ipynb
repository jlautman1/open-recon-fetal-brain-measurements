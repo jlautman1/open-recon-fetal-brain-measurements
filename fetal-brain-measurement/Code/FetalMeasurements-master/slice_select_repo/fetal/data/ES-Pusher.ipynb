{
 "cells": [
  {
   "cell_type": "code",
   "execution_count": 2,
   "metadata": {},
   "outputs": [],
   "source": [
    "import elasticsearch\n",
    "import pandas as pd\n",
    "import numpy as np\n",
    "import pydicom\n",
    "from datetime import datetime, timedelta\n",
    "\n",
    "import os\n",
    "import json"
   ]
  },
  {
   "cell_type": "code",
   "execution_count": 8,
   "metadata": {},
   "outputs": [],
   "source": [
    "def get_all_dicoms(rootdir, index=\"id\", onlydirs=True):\n",
    "    id  = 0;\n",
    "    for subdir, dirs, files in os.walk(rootdir):\n",
    "        if 'newarrivals' in subdir or 'newarrivals' in dirs:\n",
    "            continue\n",
    "        if not onlydirs:\n",
    "            for file in files:\n",
    "                filepath = subdir + os.sep + file\n",
    "\n",
    "                if filepath.endswith(\".dcm\"):\n",
    "                    dc =  dicom_to_json(filepath)\n",
    "                    es.index(index=index, doc_type='dicom', body=dc)\n",
    "        else:\n",
    "            if len(files) < 0 :\n",
    "                continue\n",
    "            thisdirflag = False\n",
    "            for file in files:\n",
    "                filepath = subdir + os.sep + file\n",
    "\n",
    "                if filepath.endswith(\".dcm\"):\n",
    "                    dc =  dicom_to_json(filepath)\n",
    "                    dc[\"dir\"] = subdir\n",
    "                    dc[\"nSlices\"] = len(files)\n",
    "                    es.index(index=index, doc_type='dicom', body=dc)\n",
    "                    thisdirflag = True\n",
    "                if thisdirflag:\n",
    "                    break\n",
    "            \n",
    "                "
   ]
  },
  {
   "cell_type": "code",
   "execution_count": 4,
   "metadata": {
    "scrolled": true
   },
   "outputs": [
    {
     "ename": "OSError",
     "evalue": "[Errno 22] Invalid argument",
     "output_type": "error",
     "traceback": [
      "\u001b[1;31m---------------------------------------------------------------------------\u001b[0m",
      "\u001b[1;31mOSError\u001b[0m                                   Traceback (most recent call last)",
      "\u001b[1;32m<ipython-input-4-c3dadf21911b>\u001b[0m in \u001b[0;36m<module>\u001b[1;34m\u001b[0m\n\u001b[1;32m----> 1\u001b[1;33m \u001b[0mget_all_dicoms\u001b[0m\u001b[1;33m(\u001b[0m\u001b[1;34mr\"z:/Fetal/New-Fetal-Org/\"\u001b[0m\u001b[1;33m)\u001b[0m\u001b[1;33m\u001b[0m\u001b[0m\n\u001b[0m",
      "\u001b[1;32m<ipython-input-3-eeb0284beba9>\u001b[0m in \u001b[0;36mget_all_dicoms\u001b[1;34m(rootdir, index, onlydirs)\u001b[0m\n\u001b[0;32m     17\u001b[0m \u001b[1;33m\u001b[0m\u001b[0m\n\u001b[0;32m     18\u001b[0m                 \u001b[1;32mif\u001b[0m \u001b[0mfilepath\u001b[0m\u001b[1;33m.\u001b[0m\u001b[0mendswith\u001b[0m\u001b[1;33m(\u001b[0m\u001b[1;34m\".dcm\"\u001b[0m\u001b[1;33m)\u001b[0m\u001b[1;33m:\u001b[0m\u001b[1;33m\u001b[0m\u001b[0m\n\u001b[1;32m---> 19\u001b[1;33m                     \u001b[0mdc\u001b[0m \u001b[1;33m=\u001b[0m  \u001b[0mdicom_to_json\u001b[0m\u001b[1;33m(\u001b[0m\u001b[0mfilepath\u001b[0m\u001b[1;33m)\u001b[0m\u001b[1;33m\u001b[0m\u001b[0m\n\u001b[0m\u001b[0;32m     20\u001b[0m                     \u001b[0mdc\u001b[0m\u001b[1;33m[\u001b[0m\u001b[1;34m\"dir\"\u001b[0m\u001b[1;33m]\u001b[0m \u001b[1;33m=\u001b[0m \u001b[0msubdir\u001b[0m\u001b[1;33m\u001b[0m\u001b[0m\n\u001b[0;32m     21\u001b[0m                     \u001b[0mdc\u001b[0m\u001b[1;33m[\u001b[0m\u001b[1;34m\"nSlices\"\u001b[0m\u001b[1;33m]\u001b[0m \u001b[1;33m=\u001b[0m \u001b[0mlen\u001b[0m\u001b[1;33m(\u001b[0m\u001b[0mfiles\u001b[0m\u001b[1;33m)\u001b[0m\u001b[1;33m\u001b[0m\u001b[0m\n",
      "\u001b[1;32m<ipython-input-2-4fccc571b8cd>\u001b[0m in \u001b[0;36mdicom_to_json\u001b[1;34m(dc_filename)\u001b[0m\n\u001b[0;32m     17\u001b[0m             \u001b[1;32mif\u001b[0m \u001b[0melem\u001b[0m\u001b[1;33m.\u001b[0m\u001b[0mkeyword\u001b[0m \u001b[1;32min\u001b[0m \u001b[0mjson_dict\u001b[0m\u001b[1;33m:\u001b[0m\u001b[1;33m\u001b[0m\u001b[0m\n\u001b[0;32m     18\u001b[0m                 \u001b[0mdateobj\u001b[0m \u001b[1;33m+=\u001b[0m \u001b[0mdatetime\u001b[0m\u001b[1;33m.\u001b[0m\u001b[0mfromtimestamp\u001b[0m\u001b[1;33m(\u001b[0m\u001b[0mjson_dict\u001b[0m\u001b[1;33m[\u001b[0m\u001b[0melemname\u001b[0m\u001b[1;33m]\u001b[0m\u001b[1;33m)\u001b[0m\u001b[1;33m\u001b[0m\u001b[0m\n\u001b[1;32m---> 19\u001b[1;33m             \u001b[0mjson_dict\u001b[0m\u001b[1;33m[\u001b[0m\u001b[0melemname\u001b[0m\u001b[1;33m]\u001b[0m\u001b[1;33m=\u001b[0m\u001b[0mdateobj\u001b[0m\u001b[1;33m.\u001b[0m\u001b[0mtimestamp\u001b[0m\u001b[1;33m(\u001b[0m\u001b[1;33m)\u001b[0m\u001b[1;33m\u001b[0m\u001b[0m\n\u001b[0m\u001b[0;32m     20\u001b[0m         \u001b[1;32melse\u001b[0m\u001b[1;33m:\u001b[0m\u001b[1;33m\u001b[0m\u001b[0m\n\u001b[0;32m     21\u001b[0m             \u001b[1;32mtry\u001b[0m\u001b[1;33m:\u001b[0m\u001b[1;33m\u001b[0m\u001b[0m\n",
      "\u001b[1;31mOSError\u001b[0m: [Errno 22] Invalid argument"
     ]
    }
   ],
   "source": [
    "get_all_dicoms(r\"z:/Fetal/New-Fetal-Org/\")"
   ]
  },
  {
   "cell_type": "code",
   "execution_count": 8,
   "metadata": {},
   "outputs": [],
   "source": [
    "dc = pydicom.read_file(dc_filename)"
   ]
  },
  {
   "cell_type": "code",
   "execution_count": 11,
   "metadata": {},
   "outputs": [
    {
     "data": {
      "text/plain": [
       "<generator object Dataset.elements at 0x000001B61E70E0F8>"
      ]
     },
     "execution_count": 11,
     "metadata": {},
     "output_type": "execute_result"
    }
   ],
   "source": [
    "dc."
   ]
  },
  {
   "cell_type": "code",
   "execution_count": 108,
   "metadata": {},
   "outputs": [
    {
     "data": {
      "text/plain": [
       "pydicom.multival.MultiValue"
      ]
     },
     "execution_count": 108,
     "metadata": {},
     "output_type": "execute_result"
    }
   ],
   "source": [
    "a2 = a1[1]\n",
    "type(a2.value)"
   ]
  },
  {
   "cell_type": "code",
   "execution_count": 73,
   "metadata": {},
   "outputs": [
    {
     "name": "stdout",
     "output_type": "stream",
     "text": [
      "InstanceCreationDate = 2018-10-11 00:00:00  *** \n",
      "12:30:05  +  2018-10-11 00:00:00\n",
      " =  2018-10-11 12:30:05\n",
      "StudyDate = 2018-10-11 00:00:00  *** \n",
      "SeriesDate = 2018-10-11 00:00:00  *** \n",
      "AcquisitionDate = 2018-10-11 00:00:00  *** \n",
      "ContentDate = 2018-10-11 00:00:00  *** \n",
      "12:29:23  +  2018-10-11 00:00:00\n",
      " =  2018-10-11 12:29:23\n",
      "12:29:59  +  2018-10-11 00:00:00\n",
      " =  2018-10-11 12:29:59\n",
      "12:29:59  +  2018-10-11 00:00:00\n",
      " =  2018-10-11 12:29:59\n",
      "12:30:05  +  2018-10-11 00:00:00\n",
      " =  2018-10-11 12:30:05\n",
      "PatientBirthDate = 1985-05-14 00:00:00  *** \n",
      "PerformedProcedureStepStartDate = 2018-10-11 00:00:00  *** \n",
      "12:29:23  +  2018-10-11 00:00:00\n",
      " =  2018-10-11 12:29:23\n"
     ]
    },
    {
     "data": {
      "text/plain": [
       "{'SpecificCharacterSet': 'ISO_IR 100',\n",
       " 'InstanceCreationDate': datetime.datetime(2018, 10, 11, 12, 30, 5),\n",
       " 'SOPClassUID': '1.2.840.10008.5.1.4.1.1.4',\n",
       " 'SOPInstanceUID': '1.3.12.2.1107.5.2.19.45773.2018101112300420758211',\n",
       " 'StudyDate': datetime.datetime(2018, 10, 11, 12, 29, 23),\n",
       " 'SeriesDate': datetime.datetime(2018, 10, 11, 12, 29, 59),\n",
       " 'AcquisitionDate': datetime.datetime(2018, 10, 11, 12, 29, 59),\n",
       " 'ContentDate': datetime.datetime(2018, 10, 11, 12, 30, 5),\n",
       " 'AccessionNumber': 3400276021864886.0,\n",
       " 'Modality': 'MR',\n",
       " 'Manufacturer': 'SIEMENS',\n",
       " 'InstitutionName': 'TEL AVIV MEDICAL CENTER',\n",
       " 'InstitutionAddress': 'Street StreetNo,Tel-Aviv,District,IL,ZIP',\n",
       " 'ReferringPhysicianName': '',\n",
       " 'StationName': 'AWP45773',\n",
       " 'StudyDescription': 'ICHILOV^Fetus',\n",
       " 'CodeValue': 'KE10921',\n",
       " 'CodingSchemeDesignator': 'CCG_CSTemp',\n",
       " 'CodeMeaning': 'MRI FETAL',\n",
       " 'SeriesDescription': 'localizer',\n",
       " 'InstitutionalDepartmentName': 'Department',\n",
       " 'PhysiciansOfRecord': '1^1^^^',\n",
       " 'PerformingPhysicianName': '',\n",
       " 'OperatorsName': 'RAN',\n",
       " 'ManufacturerModelName': 'Skyra',\n",
       " 'ReferencedSOPClassUID': '1.2.840.100008.3.1.2.3.1',\n",
       " 'ReferencedSOPInstanceUID': '1.2.840.113619.2.182.1080861859885.1539248818.3467510',\n",
       " 'PatientName': 'AKKERMAN^YULIA^^^',\n",
       " 'PatientID': '30686990-0',\n",
       " 'IssuerOfPatientID': '972G03:20061215:075933063:052435',\n",
       " 'PatientBirthDate': datetime.datetime(1985, 5, 14, 0, 0),\n",
       " 'PatientSex': 'F',\n",
       " 'PatientAge': '033Y',\n",
       " 'PatientSize': 1.62,\n",
       " 'PatientWeight': 66.0,\n",
       " 'PregnancyStatus': 4.0,\n",
       " 'BodyPartExamined': 'ABDOMEN',\n",
       " 'ScanningSequence': 'GR',\n",
       " 'ScanOptions': 'PFP',\n",
       " 'MRAcquisitionType': '2D',\n",
       " 'SequenceName': '*fl2d1',\n",
       " 'AngioFlag': 'N',\n",
       " 'SliceThickness': 6.0,\n",
       " 'RepetitionTime': 7.8,\n",
       " 'EchoTime': 3.69,\n",
       " 'NumberOfAverages': 1.0,\n",
       " 'ImagingFrequency': 123.24134,\n",
       " 'ImagedNucleus': '1H',\n",
       " 'EchoNumbers': 1.0,\n",
       " 'MagneticFieldStrength': 3.0,\n",
       " 'SpacingBetweenSlices': 7.2,\n",
       " 'NumberOfPhaseEncodingSteps': 224.0,\n",
       " 'EchoTrainLength': 1.0,\n",
       " 'PercentSampling': 80.0,\n",
       " 'PercentPhaseFieldOfView': 100.0,\n",
       " 'PixelBandwidth': 320.0,\n",
       " 'DeviceSerialNumber': 45773.0,\n",
       " 'SoftwareVersions': 'syngo MR E11',\n",
       " 'ProtocolName': 'localizer',\n",
       " 'TransmitCoilName': 'Body',\n",
       " 'AcquisitionMatrix': '[0, 256, 205, 0]',\n",
       " 'InPlanePhaseEncodingDirection': 'ROW',\n",
       " 'FlipAngle': 20.0,\n",
       " 'VariableFlipAngleFlag': 'N',\n",
       " 'SAR': 0.07202414497717,\n",
       " 'dBdt': 0.0,\n",
       " 'PatientPosition': 'FFS',\n",
       " 'StudyInstanceUID': '1.2.840.113619.2.182.1080861859885.1539248818.3467510',\n",
       " 'SeriesInstanceUID': '1.3.12.2.1107.5.2.19.45773.2018101112295060440858170.0.0.0',\n",
       " 'StudyID': 3400276021864886.0,\n",
       " 'SeriesNumber': 1.0,\n",
       " 'AcquisitionNumber': 1.0,\n",
       " 'InstanceNumber': 6.0,\n",
       " 'FrameOfReferenceUID': '1.3.12.2.1107.5.2.19.45773.2.20181011122924088.0.0.0',\n",
       " 'PositionReferenceIndicator': '',\n",
       " 'SliceLocation': -14.399999936611,\n",
       " 'SamplesPerPixel': 1.0,\n",
       " 'PhotometricInterpretation': 'MONOCHROME2',\n",
       " 'Rows': 512.0,\n",
       " 'Columns': 512.0,\n",
       " 'BitsAllocated': 16.0,\n",
       " 'BitsStored': 12.0,\n",
       " 'HighBit': 11.0,\n",
       " 'PixelRepresentation': 0.0,\n",
       " 'SmallestImagePixelValue': 0.0,\n",
       " 'LargestImagePixelValue': 285.0,\n",
       " 'WindowCenter': 147.0,\n",
       " 'WindowWidth': 351.0,\n",
       " 'WindowCenterWidthExplanation': 'WINDOW1',\n",
       " 'RequestingPhysician': '1^1^^^',\n",
       " 'RequestingService': 'C6340',\n",
       " 'RequestedProcedureDescription': 'MRI FETAL',\n",
       " 'PerformedProcedureStepStartDate': datetime.datetime(2018, 10, 11, 12, 29, 23),\n",
       " 'PerformedProcedureStepID': '3400276021864886',\n",
       " 'ScheduledProcedureStepID': 3400276021864886.0,\n",
       " 'RequestedProcedureID': 3400276021864886.0,\n",
       " 'CommentsOnThePerformedProcedureStep': ''}"
      ]
     },
     "execution_count": 73,
     "metadata": {},
     "output_type": "execute_result"
    }
   ],
   "source": [
    "dc_filename = r\"Z:/Fetal/Siemens_new/AKKERMAN_YULIA\\Study20181011_122923_791000\\AKYU_Se01_localizer\\MR001001006.dcm\"\n",
    "dc = dicom_to_json(dc_filename)\n",
    "dc"
   ]
  },
  {
   "cell_type": "code",
   "execution_count": 4,
   "metadata": {},
   "outputs": [],
   "source": [
    "def dicom_to_json(dc_filename):\n",
    "    dc = pydicom.read_file(dc_filename)\n",
    "    json_dict = {}\n",
    "    for elem in dc.iterall():\n",
    "        if (len(elem.keyword.strip()) == 0) or (elem.tag.group == 0x7fe0):\n",
    "            continue\n",
    "        elif isinstance(elem.value, pydicom.multival.MultiValue):\n",
    "            continue\n",
    "        elif 'Date' in elem.keyword:\n",
    "            try:\n",
    "                dateobj = datetime.strptime(str(elem.value), \"%Y%m%d\")\n",
    "            except:\n",
    "                continue\n",
    "            if elem.keyword in json_dict.keys():\n",
    "#                 print(elem.keyword, dateobj, \" += \", json_dict[elem.keyword])\n",
    "                tt = json_dict[elem.keyword]\n",
    "                dateobj += timedelta(hours=tt.hour, minutes=tt.minute, seconds=tt.second)\n",
    "#             print(elem.keyword, \"=\", dateobj, \" *** \")\n",
    "            json_dict[elem.keyword]=dateobj\n",
    "        elif 'Time' in elem.keyword:\n",
    "            elemname = elem.keyword.replace('Time', 'Date')\n",
    "            if not hasattr(dc,elemname):\n",
    "                json_dict[elem.keyword]=str(elem.value)\n",
    "                continue\n",
    "            \n",
    "            elemval = str(elem.value).split(\".\")[0]\n",
    "            try:\n",
    "                tt = datetime.strptime(elemval, \"%H%M%S\")\n",
    "                dateobj = timedelta(hours=tt.hour, minutes=tt.minute, seconds=tt.second)\n",
    "            except:\n",
    "                 continue\n",
    "            \n",
    "            if elemname in json_dict:\n",
    "#                 print (dateobj, \" + \", json_dict[elemname])\n",
    "                dateobj += json_dict[elemname]\n",
    "                json_dict[elemname]=dateobj\n",
    "#                 print (\" = \", dateobj)\n",
    "            else:\n",
    "#                 print (elemname, \" = \" , dateobj)\n",
    "                json_dict[elemname]=dateobj\n",
    "                \n",
    "        elif elem.keyword in ['ChemicalShiftReference', 'TagSpacingFirstDimension', 'TagAngleFirstAxis', 'FillerOrderNumberImagingServiceRequest', 'CodingSchemeVersion', 'AccessionNumber', 'PerformedLocation', 'PerformedStationName','StudyID','ScheduledProcedureStepID', 'PerformedProcedureStepID','DeviceSerialNumber']:\n",
    "            json_dict[elem.keyword]=str(elem.value)           \n",
    "        else:\n",
    "#             try:\n",
    "#                 json_dict[elem.keyword]=float(elem.value)\n",
    "#             except:\n",
    "            json_dict[elem.keyword]=str(elem.value)\n",
    "    return json_dict"
   ]
  },
  {
   "cell_type": "code",
   "execution_count": 13,
   "metadata": {},
   "outputs": [],
   "source": [
    "def connect_to_es():\n",
    "    es = elasticsearch.Elasticsearch([{'host': '10.101.85.13', 'port':9200}])\n",
    "    return es"
   ]
  },
  {
   "cell_type": "code",
   "execution_count": 14,
   "metadata": {},
   "outputs": [],
   "source": [
    "es = connect_to_es()"
   ]
  },
  {
   "cell_type": "code",
   "execution_count": null,
   "metadata": {},
   "outputs": [],
   "source": [
    "es.index(index=\"id2\", doc_type=\"talk2\", body={\"Author\": \"Dafna\", \"StudyID\":\"3400279534221967\", \"Data\": \"Bla bla bla 2\"})"
   ]
  },
  {
   "cell_type": "code",
   "execution_count": 16,
   "metadata": {
    "scrolled": true
   },
   "outputs": [],
   "source": [
    "get_all_dicoms(r\"/media/df3/Fetal/Data-All/\", index=\"tasmc_fetal\", onlydirs=True)"
   ]
  },
  {
   "cell_type": "code",
   "execution_count": 38,
   "metadata": {},
   "outputs": [
    {
     "ename": "InvalidDicomError",
     "evalue": "File is missing DICOM File Meta Information header or the 'DICM' prefix is missing from the header. Use force=True to force reading.",
     "output_type": "error",
     "traceback": [
      "\u001b[1;31m---------------------------------------------------------------------------\u001b[0m",
      "\u001b[1;31mInvalidDicomError\u001b[0m                         Traceback (most recent call last)",
      "\u001b[1;32m<ipython-input-38-b9ac28f8519d>\u001b[0m in \u001b[0;36m<module>\u001b[1;34m\u001b[0m\n\u001b[1;32m----> 1\u001b[1;33m \u001b[0mget_all_dicoms\u001b[0m\u001b[1;33m(\u001b[0m\u001b[1;34mr\"//fmri-df1/users/\"\u001b[0m\u001b[1;33m,\u001b[0m \u001b[0mindex\u001b[0m\u001b[1;33m=\u001b[0m\u001b[1;34m\"all-df10\"\u001b[0m\u001b[1;33m,\u001b[0m \u001b[0monlydirs\u001b[0m\u001b[1;33m=\u001b[0m\u001b[1;32mTrue\u001b[0m\u001b[1;33m)\u001b[0m\u001b[1;33m\u001b[0m\u001b[0m\n\u001b[0m",
      "\u001b[1;32m<ipython-input-2-eeb0284beba9>\u001b[0m in \u001b[0;36mget_all_dicoms\u001b[1;34m(rootdir, index, onlydirs)\u001b[0m\n\u001b[0;32m     17\u001b[0m \u001b[1;33m\u001b[0m\u001b[0m\n\u001b[0;32m     18\u001b[0m                 \u001b[1;32mif\u001b[0m \u001b[0mfilepath\u001b[0m\u001b[1;33m.\u001b[0m\u001b[0mendswith\u001b[0m\u001b[1;33m(\u001b[0m\u001b[1;34m\".dcm\"\u001b[0m\u001b[1;33m)\u001b[0m\u001b[1;33m:\u001b[0m\u001b[1;33m\u001b[0m\u001b[0m\n\u001b[1;32m---> 19\u001b[1;33m                     \u001b[0mdc\u001b[0m \u001b[1;33m=\u001b[0m  \u001b[0mdicom_to_json\u001b[0m\u001b[1;33m(\u001b[0m\u001b[0mfilepath\u001b[0m\u001b[1;33m)\u001b[0m\u001b[1;33m\u001b[0m\u001b[0m\n\u001b[0m\u001b[0;32m     20\u001b[0m                     \u001b[0mdc\u001b[0m\u001b[1;33m[\u001b[0m\u001b[1;34m\"dir\"\u001b[0m\u001b[1;33m]\u001b[0m \u001b[1;33m=\u001b[0m \u001b[0msubdir\u001b[0m\u001b[1;33m\u001b[0m\u001b[0m\n\u001b[0;32m     21\u001b[0m                     \u001b[0mdc\u001b[0m\u001b[1;33m[\u001b[0m\u001b[1;34m\"nSlices\"\u001b[0m\u001b[1;33m]\u001b[0m \u001b[1;33m=\u001b[0m \u001b[0mlen\u001b[0m\u001b[1;33m(\u001b[0m\u001b[0mfiles\u001b[0m\u001b[1;33m)\u001b[0m\u001b[1;33m\u001b[0m\u001b[0m\n",
      "\u001b[1;32m<ipython-input-36-d81918e18840>\u001b[0m in \u001b[0;36mdicom_to_json\u001b[1;34m(dc_filename)\u001b[0m\n\u001b[0;32m      1\u001b[0m \u001b[1;32mdef\u001b[0m \u001b[0mdicom_to_json\u001b[0m\u001b[1;33m(\u001b[0m\u001b[0mdc_filename\u001b[0m\u001b[1;33m)\u001b[0m\u001b[1;33m:\u001b[0m\u001b[1;33m\u001b[0m\u001b[0m\n\u001b[1;32m----> 2\u001b[1;33m     \u001b[0mdc\u001b[0m \u001b[1;33m=\u001b[0m \u001b[0mpydicom\u001b[0m\u001b[1;33m.\u001b[0m\u001b[0mread_file\u001b[0m\u001b[1;33m(\u001b[0m\u001b[0mdc_filename\u001b[0m\u001b[1;33m)\u001b[0m\u001b[1;33m\u001b[0m\u001b[0m\n\u001b[0m\u001b[0;32m      3\u001b[0m     \u001b[0mjson_dict\u001b[0m \u001b[1;33m=\u001b[0m \u001b[1;33m{\u001b[0m\u001b[1;33m}\u001b[0m\u001b[1;33m\u001b[0m\u001b[0m\n\u001b[0;32m      4\u001b[0m     \u001b[1;32mfor\u001b[0m \u001b[0melem\u001b[0m \u001b[1;32min\u001b[0m \u001b[0mdc\u001b[0m\u001b[1;33m.\u001b[0m\u001b[0miterall\u001b[0m\u001b[1;33m(\u001b[0m\u001b[1;33m)\u001b[0m\u001b[1;33m:\u001b[0m\u001b[1;33m\u001b[0m\u001b[0m\n\u001b[0;32m      5\u001b[0m         \u001b[1;32mif\u001b[0m \u001b[1;33m(\u001b[0m\u001b[0mlen\u001b[0m\u001b[1;33m(\u001b[0m\u001b[0melem\u001b[0m\u001b[1;33m.\u001b[0m\u001b[0mkeyword\u001b[0m\u001b[1;33m.\u001b[0m\u001b[0mstrip\u001b[0m\u001b[1;33m(\u001b[0m\u001b[1;33m)\u001b[0m\u001b[1;33m)\u001b[0m \u001b[1;33m==\u001b[0m \u001b[1;36m0\u001b[0m\u001b[1;33m)\u001b[0m \u001b[1;32mor\u001b[0m \u001b[1;33m(\u001b[0m\u001b[0melem\u001b[0m\u001b[1;33m.\u001b[0m\u001b[0mtag\u001b[0m\u001b[1;33m.\u001b[0m\u001b[0mgroup\u001b[0m \u001b[1;33m==\u001b[0m \u001b[1;36m0x7fe0\u001b[0m\u001b[1;33m)\u001b[0m\u001b[1;33m:\u001b[0m\u001b[1;33m\u001b[0m\u001b[0m\n",
      "\u001b[1;32mc:\\program files\\python36\\lib\\site-packages\\pydicom\\filereader.py\u001b[0m in \u001b[0;36mdcmread\u001b[1;34m(fp, defer_size, stop_before_pixels, force, specific_tags)\u001b[0m\n\u001b[0;32m    884\u001b[0m     \u001b[1;32mtry\u001b[0m\u001b[1;33m:\u001b[0m\u001b[1;33m\u001b[0m\u001b[0m\n\u001b[0;32m    885\u001b[0m         dataset = read_partial(fp, stop_when, defer_size=defer_size,\n\u001b[1;32m--> 886\u001b[1;33m                                force=force, specific_tags=specific_tags)\n\u001b[0m\u001b[0;32m    887\u001b[0m     \u001b[1;32mfinally\u001b[0m\u001b[1;33m:\u001b[0m\u001b[1;33m\u001b[0m\u001b[0m\n\u001b[0;32m    888\u001b[0m         \u001b[1;32mif\u001b[0m \u001b[1;32mnot\u001b[0m \u001b[0mcaller_owns_file\u001b[0m\u001b[1;33m:\u001b[0m\u001b[1;33m\u001b[0m\u001b[0m\n",
      "\u001b[1;32mc:\\program files\\python36\\lib\\site-packages\\pydicom\\filereader.py\u001b[0m in \u001b[0;36mread_partial\u001b[1;34m(fileobj, stop_when, defer_size, force, specific_tags)\u001b[0m\n\u001b[0;32m    687\u001b[0m \u001b[1;33m\u001b[0m\u001b[0m\n\u001b[0;32m    688\u001b[0m     \u001b[1;31m# Read preamble (if present)\u001b[0m\u001b[1;33m\u001b[0m\u001b[1;33m\u001b[0m\u001b[0m\n\u001b[1;32m--> 689\u001b[1;33m     \u001b[0mpreamble\u001b[0m \u001b[1;33m=\u001b[0m \u001b[0mread_preamble\u001b[0m\u001b[1;33m(\u001b[0m\u001b[0mfileobj\u001b[0m\u001b[1;33m,\u001b[0m \u001b[0mforce\u001b[0m\u001b[1;33m)\u001b[0m\u001b[1;33m\u001b[0m\u001b[0m\n\u001b[0m\u001b[0;32m    690\u001b[0m     \u001b[1;31m# Read any File Meta Information group (0002,eeee) elements (if present)\u001b[0m\u001b[1;33m\u001b[0m\u001b[1;33m\u001b[0m\u001b[0m\n\u001b[0;32m    691\u001b[0m     \u001b[0mfile_meta_dataset\u001b[0m \u001b[1;33m=\u001b[0m \u001b[0m_read_file_meta_info\u001b[0m\u001b[1;33m(\u001b[0m\u001b[0mfileobj\u001b[0m\u001b[1;33m)\u001b[0m\u001b[1;33m\u001b[0m\u001b[0m\n",
      "\u001b[1;32mc:\\program files\\python36\\lib\\site-packages\\pydicom\\filereader.py\u001b[0m in \u001b[0;36mread_preamble\u001b[1;34m(fp, force)\u001b[0m\n\u001b[0;32m    641\u001b[0m         \u001b[0mfp\u001b[0m\u001b[1;33m.\u001b[0m\u001b[0mseek\u001b[0m\u001b[1;33m(\u001b[0m\u001b[1;36m0\u001b[0m\u001b[1;33m)\u001b[0m\u001b[1;33m\u001b[0m\u001b[0m\n\u001b[0;32m    642\u001b[0m     \u001b[1;32melif\u001b[0m \u001b[0mmagic\u001b[0m \u001b[1;33m!=\u001b[0m \u001b[1;34mb\"DICM\"\u001b[0m \u001b[1;32mand\u001b[0m \u001b[1;32mnot\u001b[0m \u001b[0mforce\u001b[0m\u001b[1;33m:\u001b[0m\u001b[1;33m\u001b[0m\u001b[0m\n\u001b[1;32m--> 643\u001b[1;33m         raise InvalidDicomError(\"File is missing DICOM File Meta Information \"\n\u001b[0m\u001b[0;32m    644\u001b[0m                                 \u001b[1;34m\"header or the 'DICM' prefix is missing from \"\u001b[0m\u001b[1;33m\u001b[0m\u001b[0m\n\u001b[0;32m    645\u001b[0m                                 \"the header. Use force=True to force reading.\")\n",
      "\u001b[1;31mInvalidDicomError\u001b[0m: File is missing DICOM File Meta Information header or the 'DICM' prefix is missing from the header. Use force=True to force reading."
     ]
    }
   ],
   "source": [
    "get_all_dicoms(r\"//fmri-df1/users/\", index=\"all-df10\", onlydirs=True)"
   ]
  },
  {
   "cell_type": "code",
   "execution_count": 5,
   "metadata": {},
   "outputs": [],
   "source": [
    "def get_all_rda(rootdir, index=\"id\", onlydirs=True):\n",
    "    id  = 0;\n",
    "    for subdir, dirs, files in os.walk(rootdir):\n",
    "        for file in files:\n",
    "            filepath = subdir + os.sep + file\n",
    "\n",
    "            if filepath.endswith(\".rda\"):\n",
    "                print(filepath)"
   ]
  },
  {
   "cell_type": "code",
   "execution_count": 6,
   "metadata": {},
   "outputs": [
    {
     "name": "stdout",
     "output_type": "stream",
     "text": [
      "Z:/Fetal/New-Fetal-Org/new\\YAISH_NESIA_NOA\\mrs\\MrSpec.20181104.131430-Yaish Nesia Noa.rda\n",
      "Z:/Fetal/New-Fetal-Org/new\\NAVON_HILA\\MRS\\MrSpec.20181129.094501 Navon_Hila.rda\n",
      "Z:/Fetal/New-Fetal-Org/new\\AVIVI_ALEKSANDRA\\MRS\\MrSpec.20181014.092823-AVIV ALEKS.rda\n",
      "Z:/Fetal/New-Fetal-Org/new\\GERTLER_MEIRAV_MARINA-v\\mrs\\MrSpec.20181108.150020-Gartler Meirav_Marina.rda\n",
      "Z:/Fetal/New-Fetal-Org/new\\HIRSCHHORN_LIAT_BLUMA-v\\mrs\\MrSpec.20181213.093238 hischhoren liat 2.rda\n",
      "Z:/Fetal/New-Fetal-Org/new\\HIRSCHHORN_LIAT_BLUMA-v\\mrs\\MrSpec.20181213.092801 hirschhoren liat.rda\n",
      "Z:/Fetal/New-Fetal-Org/new\\MASHIAH_MORAN\\MRS\\MrSpec.20181004.153951-Mashiah Moran.rda\n",
      "Z:/Fetal/New-Fetal-Org/new\\ALBO_IRINA-v\\mrs\\MrSpec.20181104.131746-Albo Irina.rda\n",
      "Z:/Fetal/New-Fetal-Org/new\\TURNER_RUTH\\MRS\\MrSpec.20181004.103651-TurnerRuth.rda\n",
      "Z:/Fetal/New-Fetal-Org/new\\HOICHRACH_AVIGAIL-v\\MRS\\MrSpec.20181004.153759-Hoichrach Avigail.rda\n",
      "Z:/Fetal/New-Fetal-Org/new\\Zaks Eva\\mrs\\MrSpec.20181108.150158-Zaks Eva.rda\n",
      "Z:/Fetal/New-Fetal-Org/new\\TIDHAR_MAYA\\mrs\\MrSpec.20181018.142205 TIDHAR MAYA.rda\n",
      "Z:/Fetal/New-Fetal-Org/new\\TIDHAR_MAYA\\mrs\\MrSpec.20181018.164018 TIDHAR MAYA.rda\n",
      "Z:/Fetal/New-Fetal-Org/new\\LIVSHITZ_TATYANA\\mrs\\MrSpec.20181018.095244 LIVSHITZ TATYANA.rda\n",
      "Z:/Fetal/New-Fetal-Org/new\\EBRAHIM_ZADA_HAGAR-v\\mrs\\MrSpec.20181104.131924-Ebrahim Zada Hagar.rda\n",
      "Z:/Fetal/New-Fetal-Org/new\\KRYVYTSKAYA_LIUBOV-v\\mrs\\MrSpec.20181104.131201-Krayvytskaya Liubov.rda\n",
      "Z:/Fetal/New-Fetal-Org/new\\ABRAMOV_HADAS-v\\mrs\\MrSpec.20181104.132220-Abramov Hadas.rda\n",
      "Z:/Fetal/New-Fetal-Org/new\\BEHROUZ_SHIDA_RUTH-v\\mrs\\MrSpec.20181108.150121-Behrouz Shida Ruth.rda\n",
      "Z:/Fetal/New-Fetal-Org/new\\MAZOR_MICHAL\\MRS\\MrSpec.20181004.154030-Mazor_Michal.rda\n",
      "Z:/Fetal/New-Fetal-Org/new\\GLAZER_YARDENNA_ELISHEVA-v\\mrs\\MrSpec.20181104.130831-Glazer_Yardena_Elisheva.rda\n",
      "Z:/Fetal/New-Fetal-Org/new\\OSTRAN_ESTER\\mrs\\MrSpec.20181104.132519-Ostran Ester.rda\n",
      "Z:/Fetal/New-Fetal-Org/new\\BERGER_NECHAMA-v\\mrs\\MrSpec.20181104.132357-Berger Nechama.rda\n",
      "Z:/Fetal/New-Fetal-Org/new\\GOTLIB_BAR-v\\mrs\\MrSpec.20181104.131651-Gotlib Bar.rda\n",
      "Z:/Fetal/New-Fetal-Org/new\\AVISAR_KASSIF_MAYA-v\\mrs\\MrSpec.20181104.131600-Avisa Kassif Maya.rda\n",
      "Z:/Fetal/New-Fetal-Org/new\\ROZENFELD_RAISSA\\mrs\\MrSpec.20181018.084802 ROZENFELD RAISSA.rda\n",
      "Z:/Fetal/New-Fetal-Org/new\\ROZENFELD_RAISSA\\mrs\\MrSpec.20181018.163731-ROZENFELD RAISSA.rda\n",
      "Z:/Fetal/New-Fetal-Org/AKKERMAN_YULIA\\Analysis\\MRS\\MrSpec.20181014.093258-AKKERMAN YULIA.rda\n",
      "Z:/Fetal/New-Fetal-Org/AVIVI_ALEKSANDRA\\Analysis\\MRS\\MrSpec.20181014.092823-AVIV ALEKS.rda\n",
      "Z:/Fetal/New-Fetal-Org/ABRAMOV_HADAS\\mrs\\MrSpec.20181104.132220-Abramov Hadas.rda\n"
     ]
    }
   ],
   "source": [
    "get_all_rda(r\"Z:/Fetal/New-Fetal-Org/\")"
   ]
  },
  {
   "cell_type": "code",
   "execution_count": null,
   "metadata": {},
   "outputs": [],
   "source": []
  }
 ],
 "metadata": {
  "kernelspec": {
   "display_name": "Python 3",
   "language": "python",
   "name": "python3"
  },
  "language_info": {
   "codemirror_mode": {
    "name": "ipython",
    "version": 3
   },
   "file_extension": ".py",
   "mimetype": "text/x-python",
   "name": "python",
   "nbconvert_exporter": "python",
   "pygments_lexer": "ipython3",
   "version": "3.6.8"
  }
 },
 "nbformat": 4,
 "nbformat_minor": 2
}
